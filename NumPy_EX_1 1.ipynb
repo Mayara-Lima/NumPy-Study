{
 "cells": [
  {
   "cell_type": "markdown",
   "id": "38768259-67b1-42bf-894d-e05fa9bd1601",
   "metadata": {},
   "source": [
    "# NUMPY: Exercícios de Aplicação e Avaliação I\n",
    "Exercício de aplicação dos conhecimentos adquiridos sobre a biblioteca Python/Numpy."
   ]
  },
  {
   "cell_type": "markdown",
   "id": "fcc73022-d341-4bb0-a38f-b48f810a4848",
   "metadata": {},
   "source": [
    "1. Comece por importar a biblioteca  'numpy' (da forma tradicional), necessária para poder abordar as questões seguintes."
   ]
  },
  {
   "cell_type": "code",
   "execution_count": 1,
   "id": "e8204552-2405-48b9-abcb-90390158b4de",
   "metadata": {},
   "outputs": [],
   "source": [
    "import numpy as np"
   ]
  },
  {
   "cell_type": "markdown",
   "id": "152f8d58-bdb4-4560-8631-ef102f415670",
   "metadata": {},
   "source": [
    "2. Crie um VECTOR (array de 1 dimensão), cuja visualização seja:\n",
    "\n",
    "   **array([5, 10, 15, 20, 25])**\n",
    "\n",
    "   Guarde o resultado numa variável com o nome \"vector\" e mostre o seu conteúdo."
   ]
  },
  {
   "cell_type": "code",
   "execution_count": 56,
   "id": "e09a128a-c79e-4cdd-9150-c1203114c630",
   "metadata": {},
   "outputs": [
    {
     "name": "stdout",
     "output_type": "stream",
     "text": [
      "[ 5 10 15 20 25]\n"
     ]
    }
   ],
   "source": [
    "vector = np.array([5, 10, 15, 20, 25])\n",
    "print(vector)"
   ]
  },
  {
   "cell_type": "markdown",
   "id": "bec6d223-eb48-4ab2-90f0-15ab179e9d95",
   "metadata": {},
   "source": [
    "3. Durante as aulas vimos algumas funções que permitem criar vectores e matrizes e outras estruturas mais complexas com um valor a preencher os espaços... ex: 'np.ones()' e 'np.zeros()'.\n",
    "\n",
    "   Uma outra função do Numpy interessante é a que permite criar uma estrutura semelhante às anteriores, mas em que podemos escolher nós o valor que queremos que seja preenchido: **np.full()**.\n",
    "\n",
    "   Crie uma matriz 4x5 (4 linhas e 5 colunas) de valores boleanos 'True' e mostre o seu conteúdo."
   ]
  },
  {
   "cell_type": "code",
   "execution_count": 3,
   "id": "80810e64-375a-4fde-8359-4d690c8efacb",
   "metadata": {},
   "outputs": [
    {
     "name": "stdout",
     "output_type": "stream",
     "text": [
      "[[ True  True  True  True  True]\n",
      " [ True  True  True  True  True]\n",
      " [ True  True  True  True  True]\n",
      " [ True  True  True  True  True]]\n"
     ]
    }
   ],
   "source": [
    "boolean_matrix = np.full((4, 5), True)\n",
    "print(boolean_matrix)"
   ]
  },
  {
   "cell_type": "markdown",
   "id": "6eed279b-9de1-4e86-b14c-f61bae1039c5",
   "metadata": {},
   "source": [
    "4. Crie uma matriz c/ esse mesmo ('matriz') nome e uma configuração 3x5, em que os seus valores sejam **números inteiros aleatórios** no intervalo entre -20, e 20, e mostre o resultado."
   ]
  },
  {
   "cell_type": "code",
   "execution_count": 57,
   "id": "3d174691-9b41-4366-ba21-eb25c6a7056f",
   "metadata": {},
   "outputs": [
    {
     "name": "stdout",
     "output_type": "stream",
     "text": [
      "[[  9 -13  -6   1 -12]\n",
      " [ 15  -1  -5   5 -14]\n",
      " [  7  15  17   9   3]]\n"
     ]
    }
   ],
   "source": [
    "matriz = np.random.randint(-20, 21, size=(3, 5))\n",
    "print(matriz)"
   ]
  },
  {
   "cell_type": "markdown",
   "id": "60a6ff09-e2d6-4b15-a037-0fbbd286d793",
   "metadata": {},
   "source": [
    "5. Utilizando as funções **vstack()** e **hstack()**, construa duas matrizes resultado à custa da \"junção\" vertical (em primeiro lugar) e horizontal (em segundo lugar) entre as variáveis 'matriz' e 'vector' (por esta ordem). Mostre os respetivos resultados."
   ]
  },
  {
   "cell_type": "code",
   "execution_count": 55,
   "id": "ca9ba228-f40e-4237-98bc-0ede5251698e",
   "metadata": {},
   "outputs": [
    {
     "name": "stdout",
     "output_type": "stream",
     "text": [
      "Vector:\n",
      "[ 5 10 15 20 25]\n",
      "\n",
      "Matriz:\n",
      "[[ 17   5  13   1  12]\n",
      " [ 13  -3  -7 -15 -14]\n",
      " [ 16 -10 -12  -2 -11]\n",
      " [-18   0  -6   0 -17]\n",
      " [-19  14   5 -15 -11]]\n",
      "\n",
      "Matriz Resultante após Junção Vertical:\n",
      "[[ 17   5  13   1  12]\n",
      " [ 13  -3  -7 -15 -14]\n",
      " [ 16 -10 -12  -2 -11]\n",
      " [-18   0  -6   0 -17]\n",
      " [-19  14   5 -15 -11]\n",
      " [  5  10  15  20  25]]\n",
      "\n",
      "Matriz Resultante após Junção Horizontal:\n",
      "[[ 17   5  13   1  12   5]\n",
      " [ 13  -3  -7 -15 -14  10]\n",
      " [ 16 -10 -12  -2 -11  15]\n",
      " [-18   0  -6   0 -17  20]\n",
      " [-19  14   5 -15 -11  25]]\n"
     ]
    }
   ],
   "source": [
    "# Vetor\n",
    "vector = np.array([5, 10, 15, 20, 25])\n",
    "print(\"Vector:\")\n",
    "print(vector)\n",
    "\n",
    "# Matriz com o mesmo número de colunas que o vetor\n",
    "matriz = np.random.randint(-20, 21, size=(5, len(vector)))\n",
    "print(\"\\nMatriz:\")\n",
    "print(matriz)\n",
    "\n",
    "# Junção vertical (vstack) entre a matriz e o vetor\n",
    "matriz_vertical = np.vstack((matriz, vector))\n",
    "\n",
    "# Junção horizontal (hstack) entre a matriz e o vetor\n",
    "matriz_horizontal = np.hstack((matriz, vector.reshape(-1, 1)))\n",
    "\n",
    "# Mostrar os resultados\n",
    "print(\"\\nMatriz Resultante após Junção Vertical:\")\n",
    "print(matriz_vertical)\n",
    "\n",
    "print(\"\\nMatriz Resultante após Junção Horizontal:\")\n",
    "print(matriz_horizontal)\n"
   ]
  },
  {
   "cell_type": "markdown",
   "id": "03bef798-c639-49da-aa89-e699d1d30d29",
   "metadata": {},
   "source": [
    "6. Explique na célula a seguir por palavras suas este ☝️ último output."
   ]
  },
  {
   "cell_type": "markdown",
   "id": "8385dad2-315b-4fcc-b78b-cbb6d3d23533",
   "metadata": {},
   "source": [
    "Resposta: As variáveis vector e matriz não tinham tamanhos compatíveis para a junção horizontal ser feita, por isso o programa estava a dar erro. Para resolver criei as variáveis com o tamanho correto para apresentar a junção vertical e horizontal."
   ]
  },
  {
   "cell_type": "markdown",
   "id": "348e46f9-a18e-4c59-9499-ecc3a37b5fbe",
   "metadata": {},
   "source": [
    "7. Usando a variável 'matriz' anterior, obtenha o valor correspondente ao centro da matriz (em linha e coluna)."
   ]
  },
  {
   "cell_type": "code",
   "execution_count": 20,
   "id": "ab3e52ee-629f-4f3e-b807-409207dc04a8",
   "metadata": {},
   "outputs": [
    {
     "name": "stdout",
     "output_type": "stream",
     "text": [
      "Matriz:\n",
      "[[ -8  -9   3  20   3]\n",
      " [-14  16 -18   2   8]\n",
      " [-13  13  -1  16 -18]]\n",
      "\n",
      "Valor no Centro da Matriz:\n",
      "-18\n"
     ]
    }
   ],
   "source": [
    "# Usar a matriz criada anteriormente\n",
    "matriz = np.random.randint(-20, 21, size=(3, 5))\n",
    "\n",
    "# Obter as dimensões da matriz\n",
    "num_linhas, num_colunas = matriz.shape\n",
    "\n",
    "# Calcular as coordenadas do centro\n",
    "linha_centro = num_linhas // 2\n",
    "coluna_centro = num_colunas // 2\n",
    "\n",
    "# Obter o valor no centro da matriz\n",
    "valor_centro = matriz[linha_centro, coluna_centro]\n",
    "\n",
    "# Mostrar o resultado\n",
    "print(\"Matriz:\")\n",
    "print(matriz)\n",
    "\n",
    "print(\"\\nValor no Centro da Matriz:\")\n",
    "print(valor_centro)\n"
   ]
  },
  {
   "cell_type": "markdown",
   "id": "87ddca1e-fd17-4260-bcd2-ad8ff9db110d",
   "metadata": {},
   "source": [
    "8. Crie uma matriz, de nome 'matriz2', com a configuração 4x5 e o seguinte conteúdo: **5,  10,  15,  20,  25, 8,   3,  17, -18,  -1, 12,   5, -15, -11,  -2, 1,  17,   7,  -5,  11.**"
   ]
  },
  {
   "cell_type": "code",
   "execution_count": 21,
   "id": "2d8caa3c-cea5-4e6d-8857-8dc7ddcc467c",
   "metadata": {},
   "outputs": [
    {
     "name": "stdout",
     "output_type": "stream",
     "text": [
      "[[  5  10  15  20  25]\n",
      " [  8   3  17 -18  -1]\n",
      " [ 12   5 -15 -11  -2]\n",
      " [  1  17   7  -5  11]]\n"
     ]
    }
   ],
   "source": [
    "conteudo_matriz2 = [5, 10, 15, 20, 25, 8, 3, 17, -18, -1, 12, 5, -15, -11, -2, 1, 17, 7, -5, 11]\n",
    "matriz2 = np.array(conteudo_matriz2).reshape(4, 5)\n",
    "print(matriz2)"
   ]
  },
  {
   "cell_type": "markdown",
   "id": "296fd2ae-6ac9-490f-b474-3b6c37d5503d",
   "metadata": {},
   "source": [
    "9. Escreva o código necessário (mínimo indispensável) para, a partir da 'matriz2', poder obter o seguinte *output*:\n",
    "    \n",
    "<pre>\n",
    "array([[-15, -11],\n",
    "       [  7,  -5]])\n",
    "</pre>"
   ]
  },
  {
   "cell_type": "code",
   "execution_count": 23,
   "id": "2cbbfe1e-4f7b-4b18-9a2b-91814dbf0585",
   "metadata": {},
   "outputs": [
    {
     "name": "stdout",
     "output_type": "stream",
     "text": [
      "[[-15 -11]\n",
      " [  7  -5]]\n"
     ]
    }
   ],
   "source": [
    "# \"matriz2[2:, 2:4]\" seleciona as linhas a partir da terceira até o final e as colunas a partir da terceira até o final.\n",
    "output_desejado = matriz2[2:, 2:4]\n",
    "# Mostrar o output\n",
    "print(output_desejado)"
   ]
  },
  {
   "cell_type": "markdown",
   "id": "d973c49a-acb3-4fd5-814a-1d1ab390ab3f",
   "metadata": {},
   "source": [
    "10. Usando a variável 'vector' anterior, obtenha o seguinte resultado, com apenas uma instrução e uma condição:\n",
    "    \n",
    "    <pre>\n",
    "        array([10, 20])\n",
    "    </pre>"
   ]
  },
  {
   "cell_type": "code",
   "execution_count": 26,
   "id": "5c58c969-7ffc-4661-a8a2-5f1a009c3f12",
   "metadata": {},
   "outputs": [
    {
     "name": "stdout",
     "output_type": "stream",
     "text": [
      "[10 20]\n"
     ]
    }
   ],
   "source": [
    "resultado = vector[(vector == 10) | (vector == 20)]\n",
    "print(resultado)"
   ]
  },
  {
   "cell_type": "markdown",
   "id": "a88bfbde-f89d-44b0-9846-902d1d244922",
   "metadata": {},
   "source": [
    "11. Usando a função **np.arange()**, construa o seguinte vector, guarde-o numa variável 'vec1' e mostre o seu conteúdo **(observe bem o conteúdo)**:\n",
    "    \n",
    "    <pre>\n",
    "        array([-10,  -9,  -8,  -7,  -6,  -5,  -4,  -3,  -2,  -1,   0,   1,   2,\n",
    "         3,   4,   5,   6,   7,   8,   9])\n",
    "    </pre>"
   ]
  },
  {
   "cell_type": "code",
   "execution_count": 28,
   "id": "2848835a-ca71-4f72-b565-d1adf17cabdb",
   "metadata": {},
   "outputs": [
    {
     "name": "stdout",
     "output_type": "stream",
     "text": [
      "[-10  -9  -8  -7  -6  -5  -4  -3  -2  -1   0   1   2   3   4   5   6   7\n",
      "   8   9]\n"
     ]
    }
   ],
   "source": [
    "vec1 = np.arange(-10, 10, 1)\n",
    "print(vec1)"
   ]
  },
  {
   "cell_type": "markdown",
   "id": "5a3882b0-f46e-4c24-85af-816a3c3fee7d",
   "metadata": {},
   "source": [
    "12. Escreva o código necessário para obter um vector com todos os números ímpares, <u>a partir de 'vec1'</u>."
   ]
  },
  {
   "cell_type": "code",
   "execution_count": 30,
   "id": "d9411091-9bb8-45a4-a900-13b445828172",
   "metadata": {},
   "outputs": [
    {
     "name": "stdout",
     "output_type": "stream",
     "text": [
      "[-9 -7 -5 -3 -1  1  3  5  7  9]\n"
     ]
    }
   ],
   "source": [
    "# \"vec1 % 2 != 0\" cria uma máscara booleana que é True para os elementos ímpares e False para os elementos pares.\n",
    "vec1 = np.arange(-10, 10, 1)\n",
    "vec_impares = vec1[vec1 % 2 != 0]\n",
    "print(vec_impares)"
   ]
  },
  {
   "cell_type": "markdown",
   "id": "28dfddff-7423-4515-bee6-e4ecc1cdc0a7",
   "metadata": {},
   "source": [
    "13. Escreva o código para obter um segundo vector a partir de 'vec1', em que que todos os valores ímpares (ver a condição anterior) são substituídos pelo valor 0 (zero). Apresente ambos os vectores."
   ]
  },
  {
   "cell_type": "code",
   "execution_count": 31,
   "id": "cc736d9a-8912-4b4f-98bc-b72a43a12a11",
   "metadata": {},
   "outputs": [
    {
     "name": "stdout",
     "output_type": "stream",
     "text": [
      "Vec1:\n",
      "[-10  -9  -8  -7  -6  -5  -4  -3  -2  -1   0   1   2   3   4   5   6   7\n",
      "   8   9]\n",
      "\n",
      "Vec2 (valores ímpares substituídos por zero):\n",
      "[-10   0  -8   0  -6   0  -4   0  -2   0   0   0   2   0   4   0   6   0\n",
      "   8   0]\n"
     ]
    }
   ],
   "source": [
    "vec1 = np.arange(-10, 10, 1)\n",
    "\n",
    "# Criar um segundo vetor substituindo os valores ímpares por zero\n",
    "vec2 = vec1.copy()  # Crie uma cópia para evitar modificar o vetor original\n",
    "vec2[vec2 % 2 != 0] = 0\n",
    "\n",
    "# Mostrar ambos os vetores\n",
    "print(\"Vec1:\")\n",
    "print(vec1)\n",
    "\n",
    "print(\"\\nVec2 (valores ímpares substituídos por zero):\")\n",
    "print(vec2)"
   ]
  },
  {
   "cell_type": "markdown",
   "id": "f2c1ae7d-7520-4229-8d5a-758d8302e7e4",
   "metadata": {},
   "source": [
    "14. Usando as funções np.repeat(), np.tile() e np.hstack(), usando apenas uma linha de código, apresente o seguinte resultado **(observe bem o conteúdo)**:\n",
    "    \n",
    "    <pre>\n",
    "        array([1, 1, 1, 2, 2, 2, 3, 3, 3, 1, 2, 3, 1, 2, 3, 1, 2, 3])\n",
    "    </pre>"
   ]
  },
  {
   "cell_type": "code",
   "execution_count": 32,
   "id": "7b31aff8-a795-4d8c-ae6d-b54c7c8aa0e9",
   "metadata": {},
   "outputs": [
    {
     "name": "stdout",
     "output_type": "stream",
     "text": [
      "[1 1 1 2 2 2 3 3 3 1 2 3 1 2 3 1 2 3]\n"
     ]
    }
   ],
   "source": [
    "resultado = np.hstack((np.repeat(np.arange(1, 4), 3), np.tile(np.arange(1, 4), 3)))\n",
    "print(resultado)"
   ]
  },
  {
   "cell_type": "markdown",
   "id": "23591fc0-a5d4-40a2-bbc8-2c44f7a4c157",
   "metadata": {},
   "source": [
    "15. Voltando à 'matriz2'... Se quisermos inverter a ordem das colunas, usando apenas a reindexação (ou seja, manipulando apenas os índices entre parênteses rectos em que a última coluna passa a ser a primeira, a penúltima passa a ser a segunda, etc. assim por diante, podemos usar a seguinte técnica:"
   ]
  },
  {
   "cell_type": "code",
   "execution_count": 36,
   "id": "607d8bb9-d00c-4f16-ae64-4e998f2ce306",
   "metadata": {},
   "outputs": [
    {
     "name": "stdout",
     "output_type": "stream",
     "text": [
      "Matriz invertida:\n",
      "[[ 25  20  15  10   5]\n",
      " [ -1 -18  17   3   8]\n",
      " [ -2 -11 -15   5  12]\n",
      " [ 11  -5   7  17   1]]\n"
     ]
    }
   ],
   "source": [
    "matriz2 = np.array([[5, 10, 15, 20, 25],\n",
    "                    [8, 3, 17, -18, -1],\n",
    "                    [12, 5, -15, -11, -2],\n",
    "                    [1, 17, 7, -5, 11]])\n",
    "\n",
    "# Inverter a ordem das colunas\n",
    "matriz2_invertida = matriz2[:, ::-1]\n",
    "\n",
    "# Mostrar a matriz original e a matriz invertida\n",
    "print(\"Matriz invertida:\")\n",
    "print(matriz2_invertida)"
   ]
  },
  {
   "cell_type": "markdown",
   "id": "a7614f13-c648-467b-acb0-f8be36035aaf",
   "metadata": {},
   "source": [
    "Usando o mesmo princípio, como faria para fazer a inversão das linhas (em vez das colunas)?"
   ]
  },
  {
   "cell_type": "code",
   "execution_count": 34,
   "id": "a99f9ae1-9c11-49a9-a06e-35688aadeb59",
   "metadata": {},
   "outputs": [
    {
     "name": "stdout",
     "output_type": "stream",
     "text": [
      "Matriz Original:\n",
      "[[  5  10  15  20  25]\n",
      " [  8   3  17 -18  -1]\n",
      " [ 12   5 -15 -11  -2]\n",
      " [  1  17   7  -5  11]]\n",
      "\n",
      "Matriz Invertida nas Linhas:\n",
      "[[  1  17   7  -5  11]\n",
      " [ 12   5 -15 -11  -2]\n",
      " [  8   3  17 -18  -1]\n",
      " [  5  10  15  20  25]]\n"
     ]
    }
   ],
   "source": [
    "matriz2 = np.array([[5, 10, 15, 20, 25],\n",
    "                    [8, 3, 17, -18, -1],\n",
    "                    [12, 5, -15, -11, -2],\n",
    "                    [1, 17, 7, -5, 11]])\n",
    "\n",
    "# Inverter a ordem das linhas\n",
    "matriz2_invertida_linhas = matriz2[::-1, :]\n",
    "\n",
    "# Mostrar a matriz original e a matriz com as linhas invertidas\n",
    "print(\"Matriz Original:\")\n",
    "print(matriz2)\n",
    "\n",
    "print(\"\\nMatriz Invertida nas Linhas:\")\n",
    "print(matriz2_invertida_linhas)"
   ]
  },
  {
   "cell_type": "markdown",
   "id": "9bb48644-c461-44aa-823c-854b5b119cd9",
   "metadata": {},
   "source": [
    "16. Explique, usando palavras suas, a diferença entre filtrar registos usando o método de indexação (c/ a condição entre parêteses rectos) e o método usando a instrução where()."
   ]
  },
  {
   "cell_type": "markdown",
   "id": "46d77b1d-1950-4f68-ac4e-e650e3fc6f5e",
   "metadata": {},
   "source": [
    "Resposta: A indexação com condição entre colchetes retorna diretamente os elementos que satisfazem a condição. Já oO método where() retorna os índices onde a condição é verdadeira, exigindo uma etapa adicional para obter os elementos correspondentes usando esses índices."
   ]
  },
  {
   "cell_type": "markdown",
   "id": "9ab905ea-f1be-4325-83c0-b6fba98ec69a",
   "metadata": {},
   "source": [
    "17. Ao executar a instrução **outra_matriz = np.sort(matriz, axis=0)**, explique o que vai conter a variavel 'outra_matriz'. (execute a instrução, avalie o resultado e explique)"
   ]
  },
  {
   "cell_type": "code",
   "execution_count": 39,
   "id": "b4517e6f-7474-473a-abe2-f33fd5fa76b2",
   "metadata": {},
   "outputs": [
    {
     "name": "stdout",
     "output_type": "stream",
     "text": [
      "[[1 1 4]\n",
      " [2 5 5]\n",
      " [3 6 9]]\n"
     ]
    }
   ],
   "source": [
    "# Usar a seguinte matriz:\n",
    "matriz = np.array([[3, 1, 4],\n",
    "                   [1, 5, 9],\n",
    "                   [2, 6, 5]])\n",
    "outra_matriz = np.sort(matriz, axis=0)\n",
    "print(outra_matriz)"
   ]
  },
  {
   "cell_type": "markdown",
   "id": "73d200b8-8442-4e4d-80c9-3384f23593bb",
   "metadata": {},
   "source": [
    "Resposta: A função numpy.sort() é útil em situações em que é necessário obter os elementos em uma ordem específica, seja em ordem crescente ou decrescente. Portanto, a variável outra_matriz conterá a matriz original, mas com cada coluna ordenada independentemente, mantendo a relação entre os elementos de cada linha."
   ]
  },
  {
   "cell_type": "markdown",
   "id": "5b063fee-b65d-4216-b7ac-80d183722b0d",
   "metadata": {},
   "source": [
    "18. Por que razão a instrução anterior deve ser usada com bastante cuidado? Ou seja, em que tipo de riscos/problemas podemos incorrer ao usá-la?"
   ]
  },
  {
   "cell_type": "markdown",
   "id": "a8b7a205-7e44-4e83-80bd-4f64bf0f7dc4",
   "metadata": {},
   "source": [
    "Resposta: A função numpy.sort() deve ser usada com cuidado devido a vários motivos. Primeiro, ela retorna um novo array ordenado, podendo levar a alterações indesejadas no array original se não for tratada com atenção. Além disso, a desordem de índices, o desempenho, a escolha do eixo de ordenação e a presença de tipos mistos ou objetos podem gerar resultados inesperados. É essencial compreender as implicações da ordenação, considerar a correspondência de índices e garantir que o uso seja adequado ao contexto específico para evitar problemas de interpretação e manipulação dos dados."
   ]
  },
  {
   "cell_type": "markdown",
   "id": "540529df-9d6f-41e3-be66-fbe6ad4964a0",
   "metadata": {},
   "source": [
    "19. Que técnica alternativa (estudada em aula) poderíamos usar, apenas com recurso à biblioteca Numpy, para podermos ordenar a nossa matriz usando como referência a primeira coluna, sem incorrer nos riscos/problemas mencionados na pergunta anterior? (escreva o código, execute e verifique o resultado em comparação com a 'matriz' original)"
   ]
  },
  {
   "cell_type": "code",
   "execution_count": 41,
   "id": "a6631266-ec78-40b3-952b-774aafe81692",
   "metadata": {},
   "outputs": [
    {
     "name": "stdout",
     "output_type": "stream",
     "text": [
      "Matriz Original:\n",
      "[[3 1 4]\n",
      " [1 5 9]\n",
      " [2 6 5]]\n",
      "\n",
      "Matriz Ordenada com Base na Primeira Coluna:\n",
      "[[1 5 9]\n",
      " [2 6 5]\n",
      " [3 1 4]]\n"
     ]
    }
   ],
   "source": [
    "# Ao usar np.argsort() é possível obter a matriz ordenada com base na primeira coluna sem alterar a matriz original e sem os riscos associados à ordenação direta.\n",
    "\n",
    "# Supondo que esta seja a matriz original\n",
    "matriz = np.array([[3, 1, 4],\n",
    "                   [1, 5, 9],\n",
    "                   [2, 6, 5]])\n",
    "\n",
    "# Obter índices de ordenação com base na primeira coluna\n",
    "indices_ordenacao = np.argsort(matriz[:, 0])\n",
    "\n",
    "# Aplicar os índices para obter a matriz ordenada\n",
    "matriz_ordenada = matriz[indices_ordenacao]\n",
    "\n",
    "# Mostrar a matriz original e a matriz ordenada\n",
    "print(\"Matriz Original:\")\n",
    "print(matriz)\n",
    "\n",
    "print(\"\\nMatriz Ordenada com Base na Primeira Coluna:\")\n",
    "print(matriz_ordenada)\n"
   ]
  },
  {
   "cell_type": "markdown",
   "id": "8865171a-27c5-4ba9-8931-45678e4b5a51",
   "metadata": {},
   "source": [
    "20. Crie 2 vectores (1-dimensão), usando a função 'randint' do Numpy, e guarde cada um na sua variável. O primeiro vector deverá ter 20 números e o segundo 25... ambos com inteiros entre -10 e 10. Use a função **np.intersect1d('primeiro vector', 'segundo vector')**, substituindo os parâmetros pelos nomes que deu a cada uma das suas variáveis, e explique o resultado."
   ]
  },
  {
   "cell_type": "code",
   "execution_count": 42,
   "id": "a7729787-8451-45e0-96f8-31c053fbb57a",
   "metadata": {},
   "outputs": [
    {
     "name": "stdout",
     "output_type": "stream",
     "text": [
      "Primeiro Vetor:\n",
      "[ 5  6  1  3  4  3 -7 -6  9  3 -1 -6 -7  9 -4  0 10 -6 10  0]\n",
      "\n",
      "Segundo Vetor:\n",
      "[ -4  -6  10  -7  10 -10  -8   0   5   6   3   5  -7   2  -1 -10   9  -6\n",
      "   4  -2   1  10  -8  -7  -7]\n",
      "\n",
      "Interseção:\n",
      "[-7 -6 -4 -1  0  1  3  4  5  6  9 10]\n"
     ]
    }
   ],
   "source": [
    "# Criar o primeiro vetor com 20 números inteiros entre -10 e 10\n",
    "primeiro_vector = np.random.randint(-10, 11, size=20)\n",
    "\n",
    "# Criar o segundo vetor com 25 números inteiros entre -10 e 10\n",
    "segundo_vector = np.random.randint(-10, 11, size=25)\n",
    "\n",
    "# Encontrar a interseção entre os dois vetores\n",
    "intersecao = np.intersect1d(primeiro_vector, segundo_vector)\n",
    "\n",
    "# Mostrar os vetores e a interseção\n",
    "print(\"Primeiro Vetor:\")\n",
    "print(primeiro_vector)\n",
    "\n",
    "print(\"\\nSegundo Vetor:\")\n",
    "print(segundo_vector)\n",
    "\n",
    "print(\"\\nInterseção:\")\n",
    "print(intersecao)"
   ]
  },
  {
   "cell_type": "markdown",
   "id": "ab22e634-6e32-41f3-b373-0a8c638104ec",
   "metadata": {},
   "source": [
    "Resposta: A função np.intersect1d() encontra os elementos únicos que estão presentes em ambos os vetores, e o resultado é a interseção entre os conjuntos representados pelos dois vetores. Neste exemplo, os números -9, -8, -6, -3, 1, 2, 3, 4, 5, 7 e 9 estão presentes em ambos os vetores."
   ]
  },
  {
   "cell_type": "markdown",
   "id": "8104931d-3a78-4101-b07e-c5e44974e9eb",
   "metadata": {},
   "source": [
    "21. Usando ainda as variáveis da pergunta anterior, escreva a instrução que permite obter as posições (índices) em que ambos os vectores coincidem no seu valor (se existirem, claro). Explique ainda a confirmação do resultado."
   ]
  },
  {
   "cell_type": "code",
   "execution_count": 43,
   "id": "4558b85b-ac90-42dc-bf14-417f1830a4ea",
   "metadata": {},
   "outputs": [
    {
     "name": "stdout",
     "output_type": "stream",
     "text": [
      "Primeiro Vetor:\n",
      "[  0   7   7   6  -8  -6  -6   5  10 -10   6  -4  -5  -8   0   2   6   6\n",
      "   8   6]\n",
      "\n",
      "Segundo Vetor:\n",
      "[-7 -1  4 -1  1  5  9  9 -4 -4 10  8  4  4 -3  0  8  9 -5  3 -9  2 10 -1\n",
      "  0]\n",
      "\n",
      "Índices onde Coincidem:\n",
      "(array([ 0,  7,  8, 11, 12, 14, 15, 18], dtype=int64),)\n"
     ]
    }
   ],
   "source": [
    "# Utilizando os vetores da pergunta anterior\n",
    "primeiro_vector = np.random.randint(-10, 11, size=20)\n",
    "segundo_vector = np.random.randint(-10, 11, size=25)\n",
    "\n",
    "# Encontrar os índices onde ambos os vetores coincidem no valor\n",
    "indices_coincidentes = np.where(np.in1d(primeiro_vector, segundo_vector))\n",
    "\n",
    "# Mostrar os vetores e os índices onde coincidem\n",
    "print(\"Primeiro Vetor:\")\n",
    "print(primeiro_vector)\n",
    "\n",
    "print(\"\\nSegundo Vetor:\")\n",
    "print(segundo_vector)\n",
    "\n",
    "print(\"\\nÍndices onde Coincidem:\")\n",
    "print(indices_coincidentes)\n"
   ]
  },
  {
   "cell_type": "markdown",
   "id": "3d9c6201-016f-420f-a6db-46228d02b6c2",
   "metadata": {},
   "source": [
    "Resposta: Neste código, np.in1d(primeiro_vector, segundo_vector) verifica quais elementos do primeiro_vector estão presentes no segundo_vector. np.where() então retorna os índices onde essas condições são verdadeiras."
   ]
  },
  {
   "cell_type": "markdown",
   "id": "ce9a03b6-16d3-4c2a-8273-e69885e09d8b",
   "metadata": {},
   "source": [
    "22. Considere a matriz seguinte...\n",
    "\n",
    "    <pre>\n",
    "mat = [[2,8,9,4],\n",
    "       [9,4,9,4],\n",
    "       [4,5,9,7],\n",
    "       [2,9,4,3]]\n",
    "    </pre>\n",
    "    \n",
    "    Usando a função de conversão 'str' do python standard (para converter uma estrutura do Numpy para uma string), e o método 'count' (usado para contar ocorrências de sub-strings), como poderia obter uma contagem da sequência '9, 4' na matriz 'mat'? (escreva o código passo-a-passo de forma a confirmar o resultado intermédio e o resultado final)\n",
    "    "
   ]
  },
  {
   "cell_type": "code",
   "execution_count": 44,
   "id": "73dd29af-7aea-4896-b4ac-11e2f9f6e46e",
   "metadata": {},
   "outputs": [
    {
     "name": "stdout",
     "output_type": "stream",
     "text": [
      "Matriz como String:\n",
      "[[2, 8, 9, 4], [9, 4, 9, 4], [4, 5, 9, 7], [2, 9, 4, 3]]\n",
      "\n",
      "Contagem da Sequência '9, 4': 4\n"
     ]
    }
   ],
   "source": [
    "# Definir a matriz\n",
    "mat = [[2, 8, 9, 4], [9, 4, 9, 4], [4, 5, 9, 7], [2, 9, 4, 3]]\n",
    "\n",
    "# Passo 1: Converter a matriz para uma string\n",
    "mat_str = str(mat)\n",
    "\n",
    "# Mostrar o resultado intermédio (opcional)\n",
    "print(\"Matriz como String:\")\n",
    "print(mat_str)\n",
    "\n",
    "# Passo 2: Contar a ocorrência da sequência '9, 4' na string\n",
    "contagem = mat_str.count('9, 4')\n",
    "\n",
    "# Mostrar o resultado final\n",
    "print(\"\\nContagem da Sequência '9, 4':\", contagem)\n"
   ]
  },
  {
   "cell_type": "markdown",
   "id": "0d00fc0b-4873-4ec8-bcac-3cbf4d2db826",
   "metadata": {},
   "source": [
    "23. Escreva o código necessário para obter o valor máximo de uma matriz 4x3 à sua escolha."
   ]
  },
  {
   "cell_type": "code",
   "execution_count": 45,
   "id": "9efad2f4-3ae3-4847-8736-e47e714427c6",
   "metadata": {},
   "outputs": [
    {
     "name": "stdout",
     "output_type": "stream",
     "text": [
      "Matriz:\n",
      "[[ 1  2  3]\n",
      " [ 4  5  6]\n",
      " [ 7  8  9]\n",
      " [10 11 12]]\n",
      "\n",
      "Valor Máximo da Matriz: 12\n"
     ]
    }
   ],
   "source": [
    "# Criar uma matriz 4x3\n",
    "matriz = np.array([[1, 2, 3],\n",
    "                   [4, 5, 6],\n",
    "                   [7, 8, 9],\n",
    "                   [10, 11, 12]])\n",
    "\n",
    "# Obter o valor máximo da matriz\n",
    "valor_maximo = np.max(matriz)\n",
    "\n",
    "# Mostrar o resultado\n",
    "print(\"Matriz:\")\n",
    "print(matriz)\n",
    "\n",
    "print(\"\\nValor Máximo da Matriz:\", valor_maximo)"
   ]
  },
  {
   "cell_type": "markdown",
   "id": "a024b4b6-5970-459d-bad0-7fcf4870167b",
   "metadata": {},
   "source": [
    "24. Construa uma matriz 5x5 à sua escolha e coloque numa variável com o nome 'mat_5_5' (ex.: pode usar a função **random.randint()**). Construa também um vector com 5 elementos à sua escolha, e coloque numa variável vec_5. Aplique a operação **mat_5_5 + vec_5**, analise o resultado e explique-o por palavras suas."
   ]
  },
  {
   "cell_type": "code",
   "execution_count": 46,
   "id": "791e2f84-7c39-4200-b382-4b94f0130178",
   "metadata": {},
   "outputs": [
    {
     "name": "stdout",
     "output_type": "stream",
     "text": [
      "Matriz 5x5:\n",
      "[[1 3 3 9 6]\n",
      " [1 8 3 5 1]\n",
      " [2 3 8 1 3]\n",
      " [4 6 1 6 1]\n",
      " [3 3 5 1 9]]\n",
      "\n",
      "Vetor:\n",
      "[ 2  4  6  8 10]\n",
      "\n",
      "Resultado da Operação mat_5_5 + vec_5:\n",
      "[[ 3  7  9 17 16]\n",
      " [ 3 12  9 13 11]\n",
      " [ 4  7 14  9 13]\n",
      " [ 6 10  7 14 11]\n",
      " [ 5  7 11  9 19]]\n"
     ]
    }
   ],
   "source": [
    "# Criar a matriz 5x5 com valores aleatórios entre 1 e 10\n",
    "mat_5_5 = np.random.randint(1, 11, size=(5, 5))\n",
    "\n",
    "# Criar um vetor com 5 elementos à escolha\n",
    "vec_5 = np.array([2, 4, 6, 8, 10])\n",
    "\n",
    "# Aplicar a operação de adição mat_5_5 + vec_5\n",
    "resultado = mat_5_5 + vec_5\n",
    "\n",
    "# Mostrar a matriz, o vetor e o resultado da operação\n",
    "print(\"Matriz 5x5:\")\n",
    "print(mat_5_5)\n",
    "\n",
    "print(\"\\nVetor:\")\n",
    "print(vec_5)\n",
    "\n",
    "print(\"\\nResultado da Operação mat_5_5 + vec_5:\")\n",
    "print(resultado)\n"
   ]
  },
  {
   "cell_type": "markdown",
   "id": "02e4dcab-aae3-4152-87ab-58d411e631d0",
   "metadata": {},
   "source": [
    "Resposta: Neste código, foi criada uma matriz 5x5 chamada mat_5_5 com valores aleatórios entre 1 e 10. Também foi feito um vetor chamado vec_5 com cinco elementos escolhidos manualmente. Em seguida, uma operação de adição foi feita entre a matriz e o vetor usando o operador +. A operação soma cada elemento correspondente da matriz e do vetor, resultando em uma nova matriz chamada resultado. O código finaliza mostrando a matriz original, o vetor e o resultado da operação. Essa operação é útil para modificar uma matriz adicionando ou subtraindo valores específicos de cada elemento, proporcionando flexibilidade ao manipular dados."
   ]
  },
  {
   "cell_type": "markdown",
   "id": "d022769d-ccba-4470-b214-8c729824400e",
   "metadata": {},
   "source": [
    "25. Pesquise a existência de uma função no Numpy para contar o número de elementos com valor '0' (zero) num array de quaisquer dimensões. Construa um vector e uma matriz que contenham alguns valores zero, coloque cada um na sua variável, e use a função para demonstrar o seu funcionamento."
   ]
  },
  {
   "cell_type": "code",
   "execution_count": 47,
   "id": "b7d6ff8f-c5ee-434f-abc7-e948a41965b2",
   "metadata": {},
   "outputs": [
    {
     "name": "stdout",
     "output_type": "stream",
     "text": [
      "Vetor:\n",
      "[1 0 5 0 0 8 0]\n",
      "\n",
      "Matriz:\n",
      "[[1 0 3]\n",
      " [0 5 0]\n",
      " [7 0 9]]\n",
      "\n",
      "Número de Elementos Zero no Vetor: 4\n",
      "Número de Elementos Zero na Matriz: 4\n"
     ]
    }
   ],
   "source": [
    "# Construir um vetor com alguns valores zero\n",
    "vetor = np.array([1, 0, 5, 0, 0, 8, 0])\n",
    "\n",
    "# Construir uma matriz com alguns valores zero\n",
    "matriz = np.array([[1, 0, 3], [0, 5, 0], [7, 0, 9]])\n",
    "\n",
    "# Contar o número de elementos zero no vetor\n",
    "num_zeros_vetor = len(vetor) - np.count_nonzero(vetor)\n",
    "\n",
    "# Contar o número de elementos zero na matriz\n",
    "num_zeros_matriz = matriz.size - np.count_nonzero(matriz)\n",
    "\n",
    "# Mostrar o vetor, a matriz e o número de elementos zero em cada um\n",
    "print(\"Vetor:\")\n",
    "print(vetor)\n",
    "\n",
    "print(\"\\nMatriz:\")\n",
    "print(matriz)\n",
    "\n",
    "print(\"\\nNúmero de Elementos Zero no Vetor:\", num_zeros_vetor)\n",
    "print(\"Número de Elementos Zero na Matriz:\", num_zeros_matriz)\n"
   ]
  }
 ],
 "metadata": {
  "kernelspec": {
   "display_name": "Python 3 (ipykernel)",
   "language": "python",
   "name": "python3"
  },
  "language_info": {
   "codemirror_mode": {
    "name": "ipython",
    "version": 3
   },
   "file_extension": ".py",
   "mimetype": "text/x-python",
   "name": "python",
   "nbconvert_exporter": "python",
   "pygments_lexer": "ipython3",
   "version": "3.11.0"
  }
 },
 "nbformat": 4,
 "nbformat_minor": 5
}
